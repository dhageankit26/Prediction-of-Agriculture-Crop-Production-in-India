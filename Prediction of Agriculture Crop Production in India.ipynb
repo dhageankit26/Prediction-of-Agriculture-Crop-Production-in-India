{
 "cells": [
  {
   "cell_type": "code",
   "execution_count": 40,
   "id": "f1b7dab3-ef49-4ff5-9a17-ee15c7ecbd70",
   "metadata": {},
   "outputs": [],
   "source": [
    "import pandas as pd"
   ]
  },
  {
   "cell_type": "code",
   "execution_count": 41,
   "id": "29e7fe4a-1d7c-4b07-ac48-7ff736604d0c",
   "metadata": {},
   "outputs": [],
   "source": [
    "# Load the dataset\n",
    "df =pd.read_csv(r\"D:\\ankit personal\\intern\\project4\\Project4_Ag_Prediction\\Project4\\datafile (1).csv\")"
   ]
  },
  {
   "cell_type": "code",
   "execution_count": 42,
   "id": "3bf5c328-0aa2-476b-bc38-2f4e772f825b",
   "metadata": {},
   "outputs": [
    {
     "name": "stdout",
     "output_type": "stream",
     "text": [
      "    Crop           State  Cost of Cultivation (`/Hectare) A2+FL  \\\n",
      "0  ARHAR   Uttar Pradesh                                9794.05   \n",
      "1  ARHAR       Karnataka                               10593.15   \n",
      "2  ARHAR         Gujarat                               13468.82   \n",
      "3  ARHAR  Andhra Pradesh                               17051.66   \n",
      "4  ARHAR     Maharashtra                               17130.55   \n",
      "\n",
      "   Cost of Cultivation (`/Hectare) C2  Cost of Production (`/Quintal) C2  \\\n",
      "0                            23076.74                            1941.55   \n",
      "1                            16528.68                            2172.46   \n",
      "2                            19551.90                            1898.30   \n",
      "3                            24171.65                            3670.54   \n",
      "4                            25270.26                            2775.80   \n",
      "\n",
      "   Yield (Quintal/ Hectare)   \n",
      "0                       9.83  \n",
      "1                       7.47  \n",
      "2                       9.59  \n",
      "3                       6.42  \n",
      "4                       8.72  \n"
     ]
    }
   ],
   "source": [
    "print(df.head())"
   ]
  },
  {
   "cell_type": "code",
   "execution_count": 43,
   "id": "8e6838a2-8062-4b4a-86a4-9e1ae91b3de3",
   "metadata": {},
   "outputs": [],
   "source": [
    "df =pd.read_csv(r\"D:\\ankit personal\\intern\\project4\\Project4_Ag_Prediction\\Project4\\datafile (2).csv\")"
   ]
  },
  {
   "cell_type": "code",
   "execution_count": 44,
   "id": "f997e0cb-236e-4565-a902-5c87636c8429",
   "metadata": {},
   "outputs": [
    {
     "name": "stdout",
     "output_type": "stream",
     "text": [
      "  Crop               Production 2006-07  Production 2007-08  \\\n",
      "0  Total Foodgrains               158.8               168.6   \n",
      "1              Rice               200.8               207.9   \n",
      "2             Wheat               131.6               136.4   \n",
      "3             Jowar               124.3               137.8   \n",
      "4             Bajra               136.4               161.5   \n",
      "\n",
      "   Production 2008-09  Production 2009-10  Production 2010-11  Area 2006-07  \\\n",
      "0               171.3               159.4               178.9         128.5   \n",
      "1               213.3               191.6               206.4         168.5   \n",
      "2               140.1               140.3               150.8         115.0   \n",
      "3               126.0               116.5               121.8         120.7   \n",
      "4               143.9               105.4               167.9          94.5   \n",
      "\n",
      "   Area 2007-08  Area 2008-09  Area 2009-10  Area 2010-11  Yield 2006-07  \\\n",
      "0         128.8         127.6         126.0         131.7          123.6   \n",
      "1         168.9         175.1         161.2         164.8          119.2   \n",
      "2         115.2         114.0         116.9         119.5          114.4   \n",
      "3         110.6         107.3         111.0         105.2          103.0   \n",
      "4          95.1          87.0          88.5          95.6          144.3   \n",
      "\n",
      "   Yield 2007-08  Yield 2008-09  Yield 2009-10  Yield 2010-11  \n",
      "0          130.9          134.3          126.5          135.9  \n",
      "1          123.1          121.8          118.9          125.2  \n",
      "2          118.4          122.8          120.0          126.3  \n",
      "3          124.6          117.4          105.0          115.8  \n",
      "4          169.7          165.4          119.0          175.8  \n"
     ]
    }
   ],
   "source": [
    "print(df.head())"
   ]
  },
  {
   "cell_type": "code",
   "execution_count": 45,
   "id": "eebdad5d-319a-4232-ad2a-291537c6d448",
   "metadata": {},
   "outputs": [],
   "source": [
    "df =pd.read_csv(r\"D:\\ankit personal\\intern\\project4\\Project4_Ag_Prediction\\Project4\\produce.csv\")"
   ]
  },
  {
   "cell_type": "code",
   "execution_count": 46,
   "id": "64ad308c-edc0-463a-93e3-1f6c34196769",
   "metadata": {},
   "outputs": [
    {
     "name": "stdout",
     "output_type": "stream",
     "text": [
      "                                      Particulars  \\\n",
      "0              Agricultural Production Foodgrains   \n",
      "1       Agricultural Production Foodgrains Kharif   \n",
      "2         Agricultural Production Foodgrains Rabi   \n",
      "3         Agricultural Production Foodgrains Rice   \n",
      "4  Agricultural Production Foodgrains Rice Kharif   \n",
      "\n",
      "                         Frequency    Unit   3-1993   3-1994   3-1995  \\\n",
      "0  Annual, Ending mar Of Each Year  Ton mn      NaN      NaN      NaN   \n",
      "1  Annual, Ending mar Of Each Year  Ton mn      NaN      NaN      NaN   \n",
      "2  Annual, Ending mar Of Each Year  Ton mn      NaN      NaN      NaN   \n",
      "3  Annual, Ending mar Of Each Year  Ton mn      NaN      NaN      NaN   \n",
      "4  Annual, Ending mar Of Each Year  Ton mn      NaN      NaN      NaN   \n",
      "\n",
      "    3-1996   3-1997   3-1998   3-1999  ...     3-2005    3-2006     3-2007  \\\n",
      "0      NaN      NaN      NaN      NaN  ...  198.36282  208.6016  217.28212   \n",
      "1      NaN      NaN      NaN      NaN  ...  103.30942  109.8734  110.57622   \n",
      "2      NaN      NaN      NaN      NaN  ...   95.05340   98.7282  106.70590   \n",
      "3      NaN      NaN      NaN      NaN  ...   83.13170   91.7934   93.35530   \n",
      "4      NaN      NaN      NaN      NaN  ...   72.23000   78.2719   80.17080   \n",
      "\n",
      "      3-2008      3-2009      3-2010      3-2011      3-2012   3-2013  \\\n",
      "0  230.77504  234.466177  218.107372  244.491809  259.286253   257.13   \n",
      "1  120.95724  118.138577  103.954032  120.853191  131.274812   128.07   \n",
      "2  109.81780  116.327600  114.153340  123.638618  128.011441   129.06   \n",
      "3   96.69290   99.182500   89.092901   95.979819  105.301100   105.24   \n",
      "4   82.65940   84.908200   75.916510   80.651241   92.780700    92.37   \n",
      "\n",
      "     3-2014  \n",
      "0  264.3806  \n",
      "1  129.3686  \n",
      "2  135.0120  \n",
      "3  106.2872  \n",
      "4   92.0093  \n",
      "\n",
      "[5 rows x 25 columns]\n"
     ]
    }
   ],
   "source": [
    "print(df.head())"
   ]
  },
  {
   "cell_type": "code",
   "execution_count": 47,
   "id": "e6965cf0-bb6e-4d67-ba65-68094593e2a4",
   "metadata": {},
   "outputs": [],
   "source": [
    "df =pd.read_csv(r\"D:\\ankit personal\\intern\\project4\\Project4_Ag_Prediction\\Project4\\datafile.csv\")"
   ]
  },
  {
   "cell_type": "code",
   "execution_count": 48,
   "id": "ee3c0046-88f5-48c5-87d9-6b66bf98ae97",
   "metadata": {},
   "outputs": [
    {
     "name": "stdout",
     "output_type": "stream",
     "text": [
      "             Crop  2004-05  2005-06  2006-07  2007-08  2008-09  2009-10  \\\n",
      "0            Rice    100.0    101.0     99.0    105.0    112.0    121.0   \n",
      "1           Wheat    100.0    101.0    112.0    115.0    117.0    127.0   \n",
      "2  Coarse Cereals    100.0    107.0    110.0    115.0    113.0    123.0   \n",
      "3          Pulses    100.0    108.0    134.0    124.0    124.0    146.0   \n",
      "4     Vegetables     100.0    109.0    103.0    118.0    113.0    124.0   \n",
      "\n",
      "   2010-11  2011-12  \n",
      "0    117.0    110.0  \n",
      "1    120.0    108.0  \n",
      "2    122.0    136.0  \n",
      "3    137.0    129.0  \n",
      "4    128.0    115.0  \n"
     ]
    }
   ],
   "source": [
    "print(df.head())"
   ]
  },
  {
   "cell_type": "code",
   "execution_count": 49,
   "id": "96ca06ba-e52d-48ea-87d2-3bc8caa77412",
   "metadata": {},
   "outputs": [],
   "source": [
    "df =pd.read_csv(r\"D:\\ankit personal\\intern\\project4\\Project4_Ag_Prediction\\Project4\\datafile (3).csv\")"
   ]
  },
  {
   "cell_type": "code",
   "execution_count": 50,
   "id": "a4398ed5-7f75-474f-8ecd-9c2acfad0211",
   "metadata": {},
   "outputs": [
    {
     "name": "stdout",
     "output_type": "stream",
     "text": [
      "    Crop                     Variety Season/ duration in days  \\\n",
      "0  Paddy  Chinsurah Rice (IET 19140)                   Medium   \n",
      "1  Paddy              (CNI 383-5-11)                      NaN   \n",
      "2  Paddy         IGKVR-1 (IET 19569)                Mid-early   \n",
      "3  Paddy         IGKVR-2 (IET 19795)                   Medium   \n",
      "4  Paddy        CR Dhan 401 (REETA)                   145-150   \n",
      "\n",
      "                                    Recommended Zone  Unnamed: 4  \n",
      "0  Andhra Pradesh, Tamil Nadu, Gujarat, Orissa, a...         NaN  \n",
      "1                                                NaN         NaN  \n",
      "2  Chhattisgarh, Madhya Pradesh and Orissa under ...         NaN  \n",
      "3  Chhattisgarh, Bihar and Orissa under  both irr...         NaN  \n",
      "4  Orissa, West Bengal, Tamil Nadu and Andhra Pra...         NaN  \n"
     ]
    }
   ],
   "source": [
    "print(df.head())"
   ]
  },
  {
   "cell_type": "code",
   "execution_count": 51,
   "id": "796a4e70-a3ad-472c-b38e-7c2f002637d7",
   "metadata": {},
   "outputs": [
    {
     "name": "stdout",
     "output_type": "stream",
     "text": [
      "Index(['Crop', 'Variety', 'Season/ duration in days', 'Recommended Zone',\n",
      "       'Unnamed: 4'],\n",
      "      dtype='object')\n"
     ]
    }
   ],
   "source": [
    "print(df.columns)"
   ]
  },
  {
   "cell_type": "code",
   "execution_count": 52,
   "id": "2984c971-4ff5-4d3d-bf4f-2e282c4ace89",
   "metadata": {},
   "outputs": [],
   "source": [
    "new_column_names = {\n",
    "    \"Recommended Zone\": \"state\",\n",
    "    \"Unnamed: 4\": \"Quantity\",\n",
    "    \"Season/ duration in days\":\"Season\"\n",
    "    # Add more column name replacements as needed\n",
    "}\n",
    "df.rename(columns=new_column_names, inplace=True)\n"
   ]
  },
  {
   "cell_type": "code",
   "execution_count": 53,
   "id": "627018ee-6dc3-446b-ad73-0a3a42e8036a",
   "metadata": {},
   "outputs": [
    {
     "name": "stdout",
     "output_type": "stream",
     "text": [
      "Number of Rows: 78\n",
      "Number of Columns: 5\n",
      "Crop         0\n",
      "Variety      0\n",
      "Season      28\n",
      "state        1\n",
      "Quantity    78\n",
      "dtype: int64\n",
      "['Paddy' 'Wheat' 'Barley' 'Maize' 'Pearl Millet' 'Finger Millet'\n",
      " 'Indian Mustard' 'Yellow Sarson' 'Linseed' 'Groundnut' 'Sesame'\n",
      " 'Chickpea ' 'Bengal Gram' 'Lentil' 'Fieldpea' 'French Bean' 'Mungbean'\n",
      " 'Urdbean' 'Cluster Bean' 'Horse Gram' 'Sugarcane' 'Napier Bajra Hybrid'\n",
      " 'Oat' 'Tall Fescue Grass' 'Cowpea (Fodder)' 'Jute' 'Mesta' 'Cotton'\n",
      " 'Desi Cotton']\n",
      "['Chinsurah Rice (IET 19140)' '(CNI 383-5-11)' 'IGKVR-1 (IET 19569)'\n",
      " 'IGKVR-2 (IET 19795)' 'CR Dhan 401 (REETA) ' 'CR Dhan 601 (IET 18558)'\n",
      " 'CR Dhan 501 (IET 19189)' 'RC Maniphou 11 (IET 20193)'\n",
      " 'MPO(JW)  1215 (MPO 1215)' 'MACS 6222' 'PDW 314' 'DBW39'\n",
      " 'VL Gehun 907 (VL 907)' 'Pusa Suketi  HS 507' 'Pusa Prachi (HI 1563)'\n",
      " 'WHD 943' 'Netravati  (NIAW 1415)' 'BH-902' 'DWRB 73'\n",
      " 'Pusa Losar  (BH- 380)' 'HSC1' 'HQPM-4' 'MCH 36 (Hybrid) (DKC 9099)'\n",
      " 'DHM 119 (BH 4062)' 'PMH 4 (JH 31153)' 'PMH 5 (JH 3110)'\n",
      " 'Nandi-65 (MH-1549)' 'Nandi-61 (MH-1548)' '86M64 (MSH 203) (Hybrid)'\n",
      " 'MH 1540 (86M64) (Hybrid)' 'MH 1541 (86M53) (Hybrid)' 'RHB 177 (MH 1486)'\n",
      " 'HHB 226  (MH 1479)' 'GPU 67' 'DRMR 601 (NRCDR 601)'\n",
      " 'Pusa Mustard 26 (NPJ-113)' 'Pusa Mustard 27 (EJ-17)'\n",
      " 'CORAL 432 (PAC 432)(Hybrid)' 'Pitambari (RYSK-05-02)' 'JLS-67 (Shival)'\n",
      " 'Ruchi (LCK 5021)' 'JLS-73 (SLS-73)' 'Girnar - 3 (PBS 12160)'\n",
      " 'Kadiri Harithandhra (K 1319)' 'GPBD 5' 'Rajasthan Till 351 (RT 351)'\n",
      " 'Ujjawal (IPCK2004-29)' 'PKV KABULI-4' 'MNK-1'\n",
      " 'Pant Lentil-8(Pant L-063)' 'Pant Lentil-7(Pant L-024)'\n",
      " 'Aman  (IPF 5-19)' 'GOMATI (TRCP-8)' 'Dantiwada Fieldpea 1 (SKNP 04-09)'\n",
      " 'Gujarat Rajmash-1 (DPR 88-1-2)' 'PKV AKM-4 (AKM-9904)'\n",
      " 'Mash 479 (KUG 479)' 'Mash 391 (LU 391)' 'HG 884' 'HG 2-20'\n",
      " 'CRIDALATHA (CRHG-4)' 'Karan 6 (Co 0239)' 'Karan 5 (Co 0124)' 'Co-0218'\n",
      " 'Phule Jaywant (RBN-13)' 'Narendra Jayee -1 (NDO - 1)' 'OS 346'\n",
      " 'JO 03-91 (SC)' 'EC 178182' 'UPC 628' 'SUDHANGSU (JBO-1)'\n",
      " 'ARPITA  (JBC-5)' 'SNEHA  (JRM-3)' 'SHRESTHA (JRM-5)' 'CNH012'\n",
      " 'CICR-3 (CISA 614)' 'VBCH 2231' 'FDK 124']\n",
      "['Andhra Pradesh, Tamil Nadu, Gujarat, Orissa, and West Bengal under irrigated conditions. '\n",
      " nan\n",
      " 'Chhattisgarh, Madhya Pradesh and Orissa under  both irrigated and rainfed conditions.'\n",
      " 'Chhattisgarh, Bihar and Orissa under  both irrigated and rainfed conditions.'\n",
      " 'Orissa, West Bengal, Tamil Nadu and Andhra Pradesh under irrigated late sown conditions as well as shallow rainfed lowland.'\n",
      " 'Boro Area of Orissa, West Bengal and Assam.'\n",
      " 'Semi deep water condition of Uttar Pradesh and Assam.'\n",
      " 'Terraced area of Meghalaya and Manipur hills both under irrigated and rainfed condition.'\n",
      " 'Madhya Pradesh, Chhattisgarh, Gujarat and Rajasthan (Kota and Udaipur Division only) under timely sown irrigated condition.'\n",
      " 'Maharashtra, Karnataka, Andhra Pradesh and Tamil Nadu under timely sown irrigated condition.'\n",
      " 'Punjab, Haryana, Western Uttar Pradesh, Delhi, Rajasthan (Excluding Kota & Udaipur Divisions), Tarai Regions of Uttarakhand, Paonta Valley & Una District of Himachal Pradesh under timely sown irrigated conditions.'\n",
      " 'Eastern Uttar Pradesh, Bihar, Jharkhand, West Bengal, Assam and Orissa under timely sown irrigated condition.'\n",
      " 'Himachal Pradesh,  Jammu & Kashmir, Uttarakhand and Sikkim under timely sown irrigated conditions.'\n",
      " 'Himachal Pradesh, Uttarakhand, Jammu and Kashmir and the North Eastern state under timely sown rainfed condition in lower and mid hills.'\n",
      " 'Eastern Uttar Pradesh, Bihar, Jharkhand, West Bengal (except Hills), Orissa, Assam and the place of North Eastern states in late sown condition.'\n",
      " 'Punjab, Haryana, Delhi, Rajasthan (except Kota and Udaipur divisions), West Uttar Pradesh (except Jhansi Divisions) Jammu and Kathua districts of Jammu and Kashmir, Paonta valley and Una district of Himachal Pradesh, and tarai region of Uttarakhand.'\n",
      " 'Maharshtra, and Karnataka under rainfed condition and restricted irrigated condition.'\n",
      " 'Punjab, Haryana, Western Uttar Pradesh (Excluding Jhansi Division), Delhi, Rajasthan (Excluding Kota & Udaipur Divisions), Tarai Regions of Uttarakhand & Jammu and Kathua District of J & K under timely sown irrigated conditions.'\n",
      " 'Punjab, Haryana, Western Uttar Pradesh, Delhi and Rajasthan (except Kota and Udaipur region) under irrigated late sown condition.'\n",
      " 'Himachal Pradesh, Uttarakhand, Jammu & Kashmir and North Eastern States under timely sown rainfed conditions.'\n",
      " 'Himachal Pradesh and Uttarakhand under Kharif season.'\n",
      " 'Punjab, Haryana, Delhi, West and Central UP, Bihar, Jharkhand, Orissa, Eastern UP, Andhra Pradesh, Karnataka, Tamilnadu, Maharashtra, Rajasthan, Madhya Pradesh, Gujarat and Chhattisgarh under Kharif Season.'\n",
      " 'Karnataka, Tamil Nadu and Maharashtra in Kharif season under irrigated and rainfed conditions.'\n",
      " 'Andhra Pradesh, Maharashtra, Tamil Nadu and Karnataka in Kharif season.'\n",
      " 'Punjab, Haryana, Delhi and western Uttar Pradesh under irrigated condition.'\n",
      " 'Rajasthan, Madhya Pradesh, Gujarat and Chhattisgarh in Kharif season under both irrigated and rainfed condition.'\n",
      " 'Rajasthan, Gujarat, Haryana, MP, UP, Punjab and Delhi in Kharif season.'\n",
      " 'Rajasthan, Gujarat, Haryana, Punjab and Delhi in Kharif season.'\n",
      " 'Rajasthan, Gujarat, Maharashtra and Tamil Nadu in summer season.'\n",
      " 'Andhra Pradesh, Karnataka, Tamil Nadu   and Maharashtra under normal Kharif season.'\n",
      " 'Andhra Pradesh, Karnataka, Tamil Nadu and Maharashtra under normal Kharif season.'\n",
      " 'Rajasthan, Haryana and Gujarat under rainfed low fertility condition.'\n",
      " 'Rajasthan, Gujarat, Haryana, Uttar Pradesh, Punjab and Madhya Pradesh.'\n",
      " 'Chhattisgarh, Jharkhand, Karnataka, Maharashtra, Tamil Nadu and Uttarakhand in Kharif  season.'\n",
      " 'Rajasthan, Haryana, Punjab, Delhi and Jammu & Kashmir under timely sown irrigated condition.'\n",
      " 'Plains of Jammu & Kashmir, Punjab, Haryana, Rajasthan, Delhi and Western Uttar Pradesh in multiple cropping systems.'\n",
      " 'Uttar Pradesh, Madhya Pradesh, Uttarakhand and Kota region of Rajasthan in multiple cropping systems.'\n",
      " 'Uttar Pradesh, Madhya Pradesh, Rajasthan and Uttarakhand under timely sown irrigated condition'\n",
      " 'UP, West Bengal, Haryana, Bihar, Gujarat, Uttarakhand and Manipur. '\n",
      " 'Bundelkhand part of Uttar Pradesh, Madhya Pradesh and Rajasthan under rainfed condition.'\n",
      " 'Uttar Pradesh (except Bundelkhand), Bihar, Assam, West Bengal and Jharkhand under timely sown irrigated condition.'\n",
      " 'Madhya Pradesh, Rajasthan and Bundelkhand of Uttar Pradesh, north east and Central Maharashtra and North east part of Gujarat in Rabi season under irrigated condition.'\n",
      " 'West Bengal, Orissa and Manipur under Kharif rainfed condition.'\n",
      " 'Karnataka and Maharashtra under timely sown irrigated condition in Rabi and Summer season.'\n",
      " 'Jharkhand and Manipur in Kharif Season.'\n",
      " 'Rajasthan, Uttar Pradesh, Maharashtra, Gujarat, Karnataka, Himachal Pradesh, Punjab, Haryana and Jammu and Kashmir.'\n",
      " 'MP, South Rajasthan, Chhattisgarh, Maharashtra, Gujarat, Bundelkhand Region of UP under irrigated conditions during Rabi Season.'\n",
      " 'Maharashtra, Madhya Pradesh under irrigated conditions. '\n",
      " 'Karnataka, Andhra Pradesh, Orissa and Tamil Nadu in normal sown rainfed as well as irrigated condition.'\n",
      " 'Punjab, Haryana, Plains of Uttarakhand, Western Uttar Pradesh, Delhi and Rajasthan as a pure crop in Rabi season.'\n",
      " 'Punjab, Haryana and Uttar Pradesh under in Rabi season.'\n",
      " 'Punjab, Haryana, Plains of Uttarakhand, Western Uttar Pradesh, Delhi and parts of Rajasthan during Rabi season.'\n",
      " 'Uttarakhand Hills, Jammu & Kashmir and North Eastern States under normal sown Rabi season as pure crop. '\n",
      " 'Eastern Uttar Pradesh, Bihar, Jharkhand and West Bengal in Rabi season.'\n",
      " 'Gujarat, Southern Part of Rajasthan, Maharashtra and Madhya Pradesh.'\n",
      " 'Karnataka, Tamil Nadu and Orissa in Kharif season.'\n",
      " 'Punjab, Haryana, Western Uttar Pradesh and Plains of Uttarakhand in Kharif season.'\n",
      " 'Karnataka, Andhra Pradesh, Orissa and Tamil Nadu in summer season.'\n",
      " 'Uttar Pradesh, Madhya Pradesh, Haryana, Gujarat and Rajasthan under timely sowing, normal fertility and rainfed conditions. '\n",
      " 'Uttar Pradesh, Haryana, Gujarat and Rajasthan under timely sowing, normal fertility and rainfed conditions'\n",
      " 'South India under rainfed conditions.'\n",
      " 'Punjab, Haryana, Rajasthan, Uttarakhand, Central and Western Uttar Pradesh.'\n",
      " 'Tamil Nadu, Karnataka, Maharashtra, Kerala, Interior Andhra Pradesh.'\n",
      " 'Madhya Pradesh, Maharashtra, Gujarat, Southern Part of UP, Andhra Pradesh, Tamil Nadu, Karnataka and Kerala under irrigated conditions.'\n",
      " 'Oat growing areas of India for single cut system under both normal and salt affected soil in Rabi Season.'\n",
      " 'Madhya Pradesh, Gujarat and Maharashtra under timely sown irrigated condition suitable for single cut system.'\n",
      " 'Madhya Pradesh, Chhattisgarh, Bundelkhand region of Uttar Pradesh, Rahuri and Urulikanchan areas of Maharashtra and Anand adjoining area of Gujarat.'\n",
      " 'The temperate and sub-temperate grasslands and pastures of hill zone of the country comprising states of Himachal Pradesh, Uttarakhand and Jammu & Kashmir.'\n",
      " 'States of Uttarakhand, HP, J & K, Punjab, Haryana, Rajasthan, UP, MP, Chhattisgarh, Bihar, Jharkhand, West Bengal, Orissa, Assam, Gujarat and Maharashtra in irrigated summer and rainfed Kharif.'\n",
      " 'West Bengal, Assam, Bihar and Orissa.'\n",
      " 'West Bengal and Assam under rainfed agro system.'\n",
      " 'Traditional Mesta Growing belt of the Country under rainfed conditions.'\n",
      " 'Andhra Pradesh, Orissa, Assam, Maharashtra, Bihar and West Bengal under rainfed conditions.'\n",
      " 'Gujarat, Maharashtra and Madhya Pradesh.'\n",
      " 'Punjab, Haryana and Uttar Pradesh under wilt free area.'\n",
      " 'Maharashtra, Gujarat, Madhya Pradesh and Orissa under rainfed conditions.'\n",
      " 'Punjab, Haryana and Rajasthan under irrigated condition.']\n",
      "['Medium' nan 'Mid-early' '145-150' '160' '152' '132-135' '120' '108'\n",
      " '169' '123' '167 irrigated   & 180 rainfed' '130' '190' '80-82' '95' '99'\n",
      " '80' '81' '80-85' '78-80' '119' '144' '110-115' '114' '134' '122'\n",
      " '105-110' '103-111' '110' '135' '147' '137' '140' '100' '360' '90' '-'\n",
      " '165' '150']\n",
      "[nan]\n",
      "Crop\n",
      "Barley                 0.0\n",
      "Bengal Gram            0.0\n",
      "Chickpea               0.0\n",
      "Cluster Bean           0.0\n",
      "Cotton                 0.0\n",
      "Cowpea (Fodder)        0.0\n",
      "Desi Cotton            0.0\n",
      "Fieldpea               0.0\n",
      "Finger Millet          0.0\n",
      "French Bean            0.0\n",
      "Groundnut              0.0\n",
      "Horse Gram             0.0\n",
      "Indian Mustard         0.0\n",
      "Jute                   0.0\n",
      "Lentil                 0.0\n",
      "Linseed                0.0\n",
      "Maize                  0.0\n",
      "Mesta                  0.0\n",
      "Mungbean               0.0\n",
      "Napier Bajra Hybrid    0.0\n",
      "Oat                    0.0\n",
      "Paddy                  0.0\n",
      "Pearl Millet           0.0\n",
      "Sesame                 0.0\n",
      "Sugarcane              0.0\n",
      "Tall Fescue Grass      0.0\n",
      "Urdbean                0.0\n",
      "Wheat                  0.0\n",
      "Yellow Sarson          0.0\n",
      "Name: Quantity, dtype: float64\n"
     ]
    }
   ],
   "source": [
    "# Get the number of rows and columns in the dataframe\n",
    "print(\"Number of Rows:\", df.shape[0])\n",
    "print(\"Number of Columns:\", df.shape[1])\n",
    "\n",
    "# Check for missing values\n",
    "print(df.isnull().sum())\n",
    "\n",
    "# Get the unique values for each column\n",
    "print(df['Crop'].unique())\n",
    "print(df['Variety'].unique())\n",
    "print(df['state'].unique())\n",
    "print(df['Season'].unique())\n",
    "print(df['Quantity'].unique())\n",
    "\n",
    "# Get the total production for each crop\n",
    "print(df.groupby('Crop')['Quantity'].sum())"
   ]
  },
  {
   "cell_type": "code",
   "execution_count": 54,
   "id": "dfa14632-d83f-4a76-9031-b158716ec72b",
   "metadata": {},
   "outputs": [],
   "source": [
    "from sklearn.model_selection import train_test_split\n",
    "from sklearn.preprocessing import LabelEncoder\n",
    "\n",
    "# Encode the categorical variables\n",
    "le = LabelEncoder()\n",
    "df['Crop'] = le.fit_transform(df['Crop'])\n",
    "df['Variety'] = le.fit_transform(df['Variety'])\n",
    "df['state'] = le.fit_transform(df['state'])\n",
    "df['Season'] = le.fit_transform(df['Season'])\n",
    "df['Quantity'] = le.fit_transform(df['Quantity'])\n",
    "\n",
    "# Split the data into training and testing sets\n",
    "X = df.drop('Quantity', axis=1)\n",
    "y = df['Quantity']\n",
    "X_train, X_test, y_train, y_test = train_test_split(X, y, test_size=0.2, random_state=42)"
   ]
  },
  {
   "cell_type": "code",
   "execution_count": 55,
   "id": "156b0a92-11a4-4275-89ab-ab49c7df2ae0",
   "metadata": {},
   "outputs": [
    {
     "name": "stdout",
     "output_type": "stream",
     "text": [
      "Mean Squared Error: 0.0\n"
     ]
    }
   ],
   "source": [
    "from sklearn.ensemble import RandomForestRegressor\n",
    "from sklearn.metrics import mean_squared_error\n",
    "\n",
    "# Train the model\n",
    "model = RandomForestRegressor(n_estimators=100, random_state=42)\n",
    "model.fit(X_train, y_train)\n",
    "\n",
    "# Make predictions on the test set\n",
    "y_pred = model.predict(X_test)\n",
    "\n",
    "# Calculate the mean squared error of the predictions\n",
    "mse = mean_squared_error(y_test, y_pred)\n",
    "print(\"Mean Squared Error:\", mse)"
   ]
  },
  {
   "cell_type": "code",
   "execution_count": null,
   "id": "aa7a1587-787f-4dc4-a26d-1675fa37e027",
   "metadata": {},
   "outputs": [],
   "source": []
  }
 ],
 "metadata": {
  "kernelspec": {
   "display_name": "Python 3 (ipykernel)",
   "language": "python",
   "name": "python3"
  },
  "language_info": {
   "codemirror_mode": {
    "name": "ipython",
    "version": 3
   },
   "file_extension": ".py",
   "mimetype": "text/x-python",
   "name": "python",
   "nbconvert_exporter": "python",
   "pygments_lexer": "ipython3",
   "version": "3.11.7"
  }
 },
 "nbformat": 4,
 "nbformat_minor": 5
}
